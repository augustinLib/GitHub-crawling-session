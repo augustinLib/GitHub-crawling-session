{
 "cells": [
  {
   "attachments": {},
   "cell_type": "markdown",
   "metadata": {
    "pycharm": {
     "name": "#%% md\n"
    }
   },
   "source": [
    "# 무신사 크롤링"
   ]
  },
  {
   "attachments": {},
   "cell_type": "markdown",
   "metadata": {
    "pycharm": {
     "name": "#%% md\n"
    }
   },
   "source": [
    "## 1. 링크 먼저 따오기"
   ]
  },
  {
   "cell_type": "code",
   "execution_count": 3,
   "metadata": {
    "pycharm": {
     "name": "#%%\n"
    }
   },
   "outputs": [],
   "source": [
    "from selenium import webdriver\n",
    "from selenium.webdriver.chrome.service import Service\n",
    "from webdriver_manager.chrome import ChromeDriverManager\n",
    "from selenium.webdriver.common.by import By\n",
    "import pandas as pd\n",
    "import time\n",
    "import argparse\n",
    "import random"
   ]
  },
  {
   "cell_type": "code",
   "execution_count": 4,
   "metadata": {
    "pycharm": {
     "name": "#%%\n"
    }
   },
   "outputs": [],
   "source": [
    "def define_argparse():\n",
    "    p = argparse.ArgumentParser()\n",
    "\n",
    "    p.add_argument(\"--url\", required=True)\n",
    "    p.add_argument(\"--pages\", type=int)\n",
    "    p.add_argument(\"--type\", required=True)\n",
    "\n",
    "    config = p.parse_args()\n",
    "    return config"
   ]
  },
  {
   "attachments": {},
   "cell_type": "markdown",
   "metadata": {
    "pycharm": {
     "name": "#%% md\n"
    }
   },
   "source": [
    "상의 category URL\n",
    "https://www.musinsa.com/categories/item/001\n",
    "\n",
    "상의-셔츠/블라우스 category URL\n",
    "https://www.musinsa.com/categories/item/001002\n",
    "\n",
    "상의-맨투맨/스웨트셔츠 category URL\n",
    "https://www.musinsa.com/categories/item/001005\n",
    "\n",
    "바지 category URL\n",
    "https://www.musinsa.com/categories/item/003\n",
    "\n",
    "바지-데님 category URL\n",
    "https://www.musinsa.com/categories/item/003002\n",
    "\n",
    "바지-트레이닝/조거 팬츠 category URL\n",
    "https://www.musinsa.com/categories/item/003004\n",
    "\n",
    "**이처럼 각 url에는 \"규칙\"이 있습니다**\n",
    "\n",
    "```python\n",
    "\n",
    "```"
   ]
  },
  {
   "cell_type": "code",
   "execution_count": 6,
   "metadata": {
    "pycharm": {
     "name": "#%%\n"
    }
   },
   "outputs": [],
   "source": [
    "# .py 버전에서 .sh와 연계하여 사용\n",
    "# config = define_argparse()\n",
    "# url = config.url\n",
    "\n",
    "url = \"https://www.musinsa.com/categories/item/001005\"\n",
    "options = webdriver.ChromeOptions()\n",
    "# 탭 간 이동 활성화\n",
    "options.add_argument(\"no-sandbox\")\n",
    "\n",
    "# 아무것도 안뜨게 조용하게 크롤링하기를 원할 때\n",
    "#options.add_argument(\"headless\")"
   ]
  },
  {
   "cell_type": "code",
   "execution_count": 8,
   "metadata": {
    "pycharm": {
     "name": "#%%\n"
    }
   },
   "outputs": [
    {
     "name": "stderr",
     "output_type": "stream",
     "text": [
      "\n",
      "\n",
      "====== WebDriver manager ======\n",
      "Current google-chrome version is 109.0.5414\n",
      "Get LATEST chromedriver version for 109.0.5414 google-chrome\n",
      "Driver [/Users/augustin/.wdm/drivers/chromedriver/mac64/109.0.5414.74/chromedriver] found in cache\n"
     ]
    },
    {
     "name": "stdout",
     "output_type": "stream",
     "text": [
      "0 items omitted!\n"
     ]
    }
   ],
   "source": [
    "links = []\n",
    "goods_type = \"top_sweatshirt\"\n",
    "\n",
    "# with as 구문\n",
    "with webdriver.Chrome(service=Service(ChromeDriverManager().install()), options=options) as driver:\n",
    "    driver.get(url)\n",
    "    driver.implicitly_wait(5)\n",
    "    # 추후 누락된 친구들을 파악하기 위해 선언 후 초기화\n",
    "    error_num = 0\n",
    "    \n",
    "    # for page_num in range(1, config.pages):\n",
    "    # css selector는 보통 1부터 시작하기 때문에 0이 아닌 1로 시작\n",
    "    for page_num in range(1, 3):\n",
    "        \n",
    "        # execute_script() : 인자로 받은 자바스크립트 코드를 웹브라우저에서 실행\n",
    "        # 각 page_num의 페이지 번호로 이동\n",
    "        driver.execute_script(f\"switchPage(document.f1,{page_num});\")\n",
    "        \n",
    "        # 웹페이지의 모든 요소가 로딩될때까지 기다림\n",
    "        # 모든 요소가 로딩되면 넘어가고, 인자로 받은 숫자의 초 만큼 기다렸는데도 로딩이 안되면 그냥 go\n",
    "        driver.implicitly_wait(5)\n",
    "        \n",
    "        # 한 페이지에 있는 90개의 옷 크롤링\n",
    "        for item_num in range(1,91):\n",
    "            # 크롤링하다보면 에러가 많이 발생함\n",
    "            # 이에 대처하기 위해 try-except 구문을 애용하면 좋다.\n",
    "            try:\n",
    "                # find_element()\n",
    "                # 인자로 받은 조건에 알맞은 html 요소 중 첫 번째 1개만 가져온다\n",
    "                # return type : webelement (셀레니움 패키지 안에 정의되어있는 객체)\n",
    "                \n",
    "                # find_elements()\n",
    "                # 인자로 받은 조건에 알맞은 html 요소 모든 것을 가져온다.\n",
    "                # return type : list (list의 각 요소들은 webelement)\n",
    "                \n",
    "                link= driver.find_element(\n",
    "                By.CSS_SELECTOR,\n",
    "                f\"#searchList > li:nth-child({item_num}) > div.li_inner > div.article_info > p.list_info > a\")\n",
    "\n",
    "                # get_attribute()\n",
    "                # webelement 메소드로, 해당 html 요소의 href 요소를 긁어온다.\n",
    "                # href : 하이퍼링크\n",
    "                temp_link = link.get_attribute(\"href\")\n",
    "                links.append(temp_link)\n",
    "                \n",
    "            except:\n",
    "                print(f\"{page_num}page {item_num}th error!\")\n",
    "                error_num += 1\n",
    "                continue\n",
    "        \n",
    "        # time.sleep()\n",
    "        # 크롤링 프로그램을 잠깐 정지시킨다.\n",
    "        # 이걸 안하면 IP 밴먹을 수 있음\n",
    "        # 또한, 같은 주기로 계속 정지시켜도 IP 밴을 먹으니\n",
    "        # random하게 정지시키는 주기를 변화해준다.\n",
    "        time.sleep(random.randint(2,6))\n",
    "            \n",
    "        \n",
    "\n",
    "print(f\"{error_num} items omitted!\")\n",
    "link_df= pd.DataFrame(links)\n",
    "link_df.to_csv(f\"./data/{goods_type}.csv\")\n"
   ]
  },
  {
   "attachments": {},
   "cell_type": "markdown",
   "metadata": {
    "pycharm": {
     "name": "#%% md\n"
    }
   },
   "source": [
    "## 2. 각 상품 정보 따오기"
   ]
  },
  {
   "cell_type": "code",
   "execution_count": 9,
   "metadata": {
    "pycharm": {
     "name": "#%%\n"
    }
   },
   "outputs": [],
   "source": [
    "from selenium import webdriver\n",
    "from selenium.webdriver.chrome.service import Service\n",
    "from webdriver_manager.chrome import ChromeDriverManager\n",
    "from selenium.webdriver.common.by import By\n",
    "import pandas as pd\n",
    "import time\n",
    "import random\n",
    "from urllib import request\n",
    "import argparse\n",
    "from tqdm import tqdm"
   ]
  },
  {
   "cell_type": "code",
   "execution_count": 10,
   "metadata": {},
   "outputs": [],
   "source": [
    "def define_argparse():\n",
    "    p = argparse.ArgumentParser()\n",
    "\n",
    "    p.add_argument(\"--file_name\", required=True)\n",
    "\n",
    "    config = p.parse_args()\n",
    "    return config"
   ]
  },
  {
   "cell_type": "code",
   "execution_count": 14,
   "metadata": {
    "pycharm": {
     "name": "#%%\n"
    }
   },
   "outputs": [
    {
     "name": "stderr",
     "output_type": "stream",
     "text": [
      "\n",
      "\n",
      "====== WebDriver manager ======\n",
      "Current google-chrome version is 109.0.5414\n",
      "Get LATEST chromedriver version for 109.0.5414 google-chrome\n",
      "Driver [/Users/augustin/.wdm/drivers/chromedriver/mac64/109.0.5414.74/chromedriver] found in cache\n",
      "100%|██████████| 3/3 [00:36<00:00, 12.09s/it]"
     ]
    },
    {
     "name": "stdout",
     "output_type": "stream",
     "text": [
      "\n",
      "top_sweatshirt : 0 omitted!\n"
     ]
    },
    {
     "name": "stderr",
     "output_type": "stream",
     "text": [
      "\n"
     ]
    }
   ],
   "source": [
    "# .py 버전에서 .sh와 연계하여 사용\n",
    "# config = define_argparse()\n",
    "# url = config.url\n",
    "# df = pd.read_csv(f\"./data/{config.file_name}.csv\")\n",
    "\n",
    "df = pd.read_csv(f\"./data/top_sweatshirt.csv\")\n",
    "url_list = df.iloc[:,1]\n",
    "options = webdriver.ChromeOptions()\n",
    "# 탭 간 이동 활성화\n",
    "options.add_argument(\"no-sandbox\")\n",
    "# options.add_argument(\"headless\")\n",
    "\n",
    "\n",
    "\n",
    "product_num_list = []\n",
    "product_name_list = []\n",
    "brand_list = []\n",
    "year_sold_list = []\n",
    "like_list = []\n",
    "rate_list = []\n",
    "price_list = []\n",
    "tag_list = []\n",
    "\n",
    "\n",
    "with webdriver.Chrome(service=Service(ChromeDriverManager().install()), options=options) as driver:\n",
    "    omitted_num = 0\n",
    "    # 테스트를 위해 3개만 뽑아봅시다\n",
    "    for url in tqdm(url_list[3:6]):\n",
    "        \n",
    "        # 크롤링을 진행하다보면 어떤 상품에는 해당 요소가 존재하지 않을 수 있음\n",
    "        # 이런 경우에는 존재하지 않는 요소를 None값 취급하고 뽑을지,\n",
    "        # 아예 해당 상품을 뽑지 않을지를 선택해야함\n",
    "        # 본 예제에서는 뽑지 않고 지나가는것을 선택함\n",
    "        # 이를 위해 try-except 구문 활용\n",
    "        try:\n",
    "                driver.get(url)\n",
    "                driver.implicitly_wait(5)\n",
    "                \n",
    "                # https://www.musinsa.com/app/goods/2096933\n",
    "                # url의 규칙에 따라 맨 마지막에는 해당 상품의 고유 번호가 담겨있음 \n",
    "                product_num = url.split(\"/\")[-1]\n",
    "                \n",
    "                # 상품 이름\n",
    "                product_name =  driver.find_element(\n",
    "                        By.CSS_SELECTOR,\n",
    "                        \"#page_product_detail > div.right_area.page_detail_product > div.right_contents.section_product_summary > span > em\")\n",
    "                \n",
    "                # 상품 브랜드\n",
    "                brand = driver.find_element(\n",
    "                        By.CSS_SELECTOR,\n",
    "                        \"#product_order_info > div.explan_product.product_info_section > ul > li:nth-child(1) > p.product_article_contents > strong > a\")\n",
    "                \n",
    "                # 1년 판매량\n",
    "                year_sold = driver.find_element(\n",
    "                        By.CSS_SELECTOR,\n",
    "                        \"#sales_1y_qty\")\n",
    "\n",
    "                # 좋아요 개수\n",
    "                like = driver.find_element(\n",
    "                        By.CSS_SELECTOR,\n",
    "                        f\"#product-top-like > p.product_article_contents.goods_like_{product_num} > span\")\n",
    "\n",
    "                # 평점\n",
    "                rate = driver.find_element(\n",
    "                        By.CSS_SELECTOR,\n",
    "                        \"#product_order_info > div.explan_product.product_info_section > ul > li:nth-child(6) > p.product_article_contents > a > span.prd-score__rating\")\n",
    "                \n",
    "                # 가격\n",
    "                price = driver.find_element(\n",
    "                        By.CSS_SELECTOR,\n",
    "                        \"#goods_price\")\n",
    "                \n",
    "                # 이미지를 뽑기 위해 이미지 링크 추출\n",
    "                image_url = driver.find_element(\n",
    "                        By.CSS_SELECTOR,\n",
    "                        \"#detail_bigimg > div > img\").get_attribute(\"src\")\n",
    "                \n",
    "                # 해당 상품의 태그 추출\n",
    "                # 여기서는 태그가 여러개이기 때문에 find elements\n",
    "                # 즉, return은 list의 형태(혹은 iterable)\n",
    "                tags = driver.find_elements(\n",
    "                    By.CSS_SELECTOR,\n",
    "                    \"#product_order_info > div.explan_product.product_info_section > ul > li.article-tag-list.list a\"\n",
    "                )\n",
    "                \n",
    "                temp_tag_list = []\n",
    "                # tags에 list의 형태(혹은 iterable)가 담겨있으므로, 반복문을 돌려서 하나씩 추출\n",
    "                for tag in tags:\n",
    "                # tag 맨 앞에 있는 # 제거\n",
    "                    temp_tag_list.append(tag.text[1:])\n",
    "\n",
    "                # temp_tag_list에 들어있는 해체된 태그들을\n",
    "                # 추후 다루기 쉽게 문자열로 변환\n",
    "                tag_str = \",\".join(temp_tag_list)\n",
    "                \n",
    "\n",
    "        # 위 과정에서 문제가 발생했을 경우 (특정 요소가 해당 상품에 존재하지 않을 경우)\n",
    "        # 예외 처리 한 다음 누락된 개수 count 추가\n",
    "        # 이후 continue로 다음 상품\n",
    "        except:\n",
    "            omitted_num +=1\n",
    "            continue\n",
    "        \n",
    "        # 상품에서 추출한 요소들을 리스트에 append\n",
    "        # (단, 이 과정은 with as 구문으로 파일 입출력으로 대체해도 무방함)\n",
    "        # 저는 이게 편해서...ㅎㅎ\n",
    "        \n",
    "        product_num_list.append(product_num)\n",
    "        product_name_list.append(product_name.text)\n",
    "        brand_list.append(brand.text)\n",
    "        year_sold_list.append(year_sold.text)\n",
    "        like_list.append(like.text)\n",
    "        rate_list.append(rate.text)\n",
    "        price_list.append(price.text)\n",
    "        tag_list.append(tag_str)\n",
    "        \n",
    "        # 아까 추출해놓은 이미지 url을 이용하여\n",
    "        # request.urlretrieve() 메소드를 이용하여 이미지 저장\n",
    "        # 이때 이미지 파일 이름은 상품에 부여된 고유 번호로 설정\n",
    "        request.urlretrieve(image_url, f\"./data/image/{product_num}.jpg\")\n",
    "        \n",
    "        # ip 밴 방지\n",
    "        time.sleep(random.uniform(0,1))\n",
    "\n",
    "        # 매 반복마다 csv를 새로 만드는 이유\n",
    "        # 다 끝나고 csv를 만들면, 예상치 못한 오류 (보통은 각 리스트마다 길이가 다른 경우 -> 이 경우 추출이 잘못된거에요)로 인해\n",
    "        # 뽑긴 뽑았는데 그걸 저장을 못하는 매우 슬픈 일이 발생할 수 있음\n",
    "        # 따라서, 매 반복마다 csv를 저장하도록 하면 중간에 끊기더라도 이전까지 뽑은 정보들을 살릴 수 있다는 이점이 존재함\n",
    "        # 다만, 이 방법은 시스템에 매우 큰 부하를 불러일으킨다는 단점이 있음\n",
    "        \n",
    "        product_df = pd.DataFrame({\"product_num\" :product_num_list,\n",
    "                            #main_category_list,\n",
    "                            #sub_category_list,\n",
    "                            \"product_name\" : product_name_list,\n",
    "                            \"brand\" : brand_list,\n",
    "                            \"year_sold\" : year_sold_list,\n",
    "                            \"like\" : like_list,\n",
    "                            \"rate\" : rate_list,\n",
    "                            \"price\" : price_list,\n",
    "                            \"tag\" : tag_list\n",
    "                            })\n",
    "    \n",
    "        product_df.to_csv(f\"./data/top_sweatshirt_info.csv\")\n",
    "        \n",
    "\n",
    "    print()\n",
    "    print(f\"top_sweatshirt : {omitted_num} omitted!\")\n"
   ]
  },
  {
   "attachments": {},
   "cell_type": "markdown",
   "metadata": {
    "pycharm": {
     "name": "#%% md\n"
    }
   },
   "source": [
    "## 3. 각 상품의 리뷰 따오기"
   ]
  },
  {
   "cell_type": "code",
   "execution_count": 21,
   "metadata": {
    "pycharm": {
     "name": "#%%\n"
    }
   },
   "outputs": [],
   "source": [
    "from selenium import webdriver\n",
    "from selenium.webdriver.chrome.service import Service\n",
    "from webdriver_manager.chrome import ChromeDriverManager\n",
    "from selenium.webdriver.support.ui import Select\n",
    "from selenium.webdriver.common.by import By\n",
    "import pandas as pd\n",
    "import time\n",
    "import random\n",
    "from urllib import request\n",
    "import argparse\n",
    "from tqdm import tqdm\n",
    "import re"
   ]
  },
  {
   "cell_type": "code",
   "execution_count": 22,
   "metadata": {},
   "outputs": [],
   "source": [
    "def define_argparse():\n",
    "    p = argparse.ArgumentParser()\n",
    "\n",
    "    p.add_argument(\"--file_name\", required=True)\n",
    "\n",
    "    config = p.parse_args()\n",
    "    return config"
   ]
  },
  {
   "cell_type": "code",
   "execution_count": 25,
   "metadata": {
    "pycharm": {
     "name": "#%%\n"
    }
   },
   "outputs": [
    {
     "name": "stderr",
     "output_type": "stream",
     "text": [
      "\n",
      "\n",
      "====== WebDriver manager ======\n",
      "Current google-chrome version is 109.0.5414\n",
      "Get LATEST chromedriver version for 109.0.5414 google-chrome\n",
      "Driver [/Users/augustin/.wdm/drivers/chromedriver/mac64/109.0.5414.74/chromedriver] found in cache\n",
      "  0%|          | 0/3 [00:00<?, ?it/s]"
     ]
    },
    {
     "name": "stdout",
     "output_type": "stream",
     "text": [
      "loading complete\n",
      "2,582\n",
      "3,832\n",
      "13,248\n",
      "13248\n"
     ]
    },
    {
     "name": "stderr",
     "output_type": "stream",
     "text": [
      " 33%|███▎      | 1/3 [00:47<01:35, 47.61s/it]"
     ]
    },
    {
     "name": "stdout",
     "output_type": "stream",
     "text": [
      "loading complete\n",
      "857\n",
      "1,040\n",
      "4,180\n",
      "4180\n"
     ]
    },
    {
     "name": "stderr",
     "output_type": "stream",
     "text": [
      " 67%|██████▋   | 2/3 [01:13<00:34, 34.85s/it]"
     ]
    },
    {
     "name": "stdout",
     "output_type": "stream",
     "text": [
      "loading complete\n",
      "555\n",
      "633\n",
      "2,064\n",
      "2064\n"
     ]
    },
    {
     "name": "stderr",
     "output_type": "stream",
     "text": [
      "100%|██████████| 3/3 [01:41<00:00, 33.90s/it]\n"
     ]
    },
    {
     "name": "stdout",
     "output_type": "stream",
     "text": [
      "0 omitted!\n"
     ]
    }
   ],
   "source": [
    "# .py 버전에서 .sh와 연계하여 사용\n",
    "# config = define_argparse()\n",
    "# url = config.url\n",
    "# df = pd.read_csv(f\"./data/{config.file_name}.csv\")\n",
    "\n",
    "\n",
    "df = pd.read_csv(f\"./data/top_sweatshirt_info.csv\")\n",
    "url_list = df[\"product_num\"]\n",
    "\n",
    "options = webdriver.ChromeOptions()\n",
    "# 탭 간 이동 활성화\n",
    "options.add_argument(\"no-sandbox\")\n",
    "# options.add_argument(\"headless\")\n",
    "\n",
    "\n",
    "review_list = []\n",
    "star_list = []\n",
    "product_num_list = []\n",
    "\n",
    "\n",
    "with webdriver.Chrome(service=Service(ChromeDriverManager().install()), options=options) as driver:\n",
    "    omitted_num = 0\n",
    "    for num in tqdm(url_list):\n",
    "        try:\n",
    "            # 상품 고유번호 이용하여 url 생성\n",
    "            url = f\"https://www.musinsa.com/app/goods/{num}\"\n",
    "            driver.get(url)\n",
    "            driver.implicitly_wait(5)\n",
    "            \n",
    "            # ()안에 존재하는 총 리뷰 개수 추출하기 위해 정규표현식 사용\n",
    "            inside_bracket = re.compile('\\((.*?)\\)')\n",
    "            print(\"loading complete\")\n",
    "            # 스타일 후기 개수\n",
    "            style = driver.find_element(\n",
    "                By.CSS_SELECTOR,\n",
    "                \"#estimate_style\"\n",
    "            )\n",
    "            style_temp = inside_bracket.findall(style.text)[0]\n",
    "            print(style_temp)\n",
    "            style_temp = style_temp.replace(\",\", \"\")\n",
    "            # 문자열이기 때문에 정수형으로 변환\n",
    "            style_num = int(style_temp)\n",
    "\n",
    "            # 상품 후기 개수\n",
    "            photo = driver.find_element(\n",
    "                By.CSS_SELECTOR,\n",
    "                \"#estimate_photo\"\n",
    "            )\n",
    "            \n",
    "            photo_temp = inside_bracket.findall(photo.text)[0]\n",
    "            print(photo_temp)\n",
    "            photo_temp = photo_temp.replace(\",\", \"\")\n",
    "            # 문자열이기 때문에 정수형으로 변환\n",
    "            photo_num = int(photo_temp)\n",
    "\n",
    "            # 일반 후기 개수\n",
    "            goods = driver.find_element(\n",
    "                By.CSS_SELECTOR,\n",
    "                \"#estimate_goods\"\n",
    "            )\n",
    "            goods_temp = inside_bracket.findall(goods.text)[0]\n",
    "            print(goods_temp)\n",
    "            goods_temp = goods_temp.replace(\",\", \"\")\n",
    "            # 문자열이기 때문에 정수형으로 변환\n",
    "            goods_num = int(goods_temp)\n",
    "            print(goods_num)\n",
    "\n",
    "            # 각 리뷰 타입\n",
    "            review_type_list = [style, photo, goods]\n",
    "            time.sleep(random.uniform(0,2))\n",
    "            \n",
    "            # 각 리뷰 20개씩 없으면 패스\n",
    "            if style_num < 3 or photo_num < 3 or goods_num < 3:\n",
    "                omitted_num += 1\n",
    "                print(\"리뷰 부족\")\n",
    "\n",
    "                continue\n",
    "            \n",
    "            # 리뷰 정렬 조작하기 위해 정렬 요소 추출\n",
    "            sort = driver.find_element(\n",
    "                By.CSS_SELECTOR,\n",
    "                \"#reviewSelectSort\"\n",
    "            )\n",
    "            \n",
    "            # 토글, 드롭다운 등 다양한 요소를 조작하기 위헤 \n",
    "            #selenium.webdriver.support.ui.Select 사용\n",
    "            sort_select = Select(sort)\n",
    "\n",
    "            # 각 리뷰 종류 클릭으로 이동 (각 리뷰 당 40개 추출)\n",
    "            # 리뷰 버튼에는 따로 자바스크립트 요소가 없기 때문에 click() 메소드로 조작\n",
    "            for review_type in review_type_list:\n",
    "                if review_type != style:\n",
    "                    review_type.click()\n",
    "                # IP 밴 방지\n",
    "                time.sleep(random.uniform(0,1))\n",
    "                \n",
    "                # 높은 평점 순으로 정렬\n",
    "                # 조작하고 싶은 값의 value를 찾은 뒤,\n",
    "                # select_by_value() 메소드로 이를 조작\n",
    "                sort_select.select_by_value(\"goods_est_desc\")\n",
    "                \n",
    "                # 각 리뷰 별 높은 평점 순 20개 추출\n",
    "                for page in range(1, 3):\n",
    "                    if page != 1:\n",
    "                        driver.execute_script(f\"ReviewPage.goPage({page});\")\n",
    "                    time.sleep(random.uniform(0,1))\n",
    "                    for i in range(1,11):\n",
    "                        \n",
    "                        # 리뷰 텍스트 추출\n",
    "                        review = driver.find_element(\n",
    "                            By.CSS_SELECTOR,\n",
    "                            f\"#reviewListFragment > div:nth-child({i}) > div.review-contents > div.review-contents__text\"\n",
    "                        )\n",
    "                        review_txt = review.text\n",
    "                        review_txt = review_txt.replace(\"\\n\", \" \")\n",
    "\n",
    "                        # 별점 추출\n",
    "                        # 이때, 별점이 그림으로만 있고 텍스트로 따로 보이지 않는다\n",
    "                        # 이런 경우에는 텍스트로 전환할 수 있는 요소를 찾아서 해결해보자\n",
    "                        star_raw = driver.find_element(\n",
    "                            By.CSS_SELECTOR,\n",
    "                            f\"#reviewListFragment > div:nth-child({i}) > div.review-list__rating-wrap > span > span > span\"\n",
    "                        )\n",
    "                        \n",
    "                        # 해당 요소의 style 항목을 보면,\n",
    "                        # 별 1개는 20, 2개는 40의 규칙이 보인다. (style=\"width: 100%\")\n",
    "                        # 이를 이용해보자\n",
    "                        \n",
    "                        # get_attribute()로 해당 요소의 style의 값 불러오기\n",
    "                        star = star_raw.get_attribute(\"style\")\n",
    "                        \n",
    "                        # width: 제거 위해 split\n",
    "                        star_temp = star.split(\": \")[-1]\n",
    "                        \n",
    "                        # %과 ; 제거\n",
    "                        star_temp = star_temp.replace(\"%\", \"\")\n",
    "                        star_temp = star_temp.replace(\";\", \"\")\n",
    "                        \n",
    "                        # 남겨진 텍스트를 정수형으로 바꾼 뒤, 20으로 나눠준다\n",
    "                        star_result = int(star_temp) / int(20)\n",
    "                        product_num_list.append(num)\n",
    "                        review_list.append(review_txt)\n",
    "                        star_list.append(star_result)\n",
    "\n",
    "\n",
    "                    time.sleep(random.uniform(0,1))\n",
    "        \n",
    "\n",
    "\n",
    "                # 낮은 평점 순으로 정렬\n",
    "                # 조작하고 싶은 값의 value를 찾은 뒤,\n",
    "                # select_by_value() 메소드로 이를 조작\n",
    "                sort_select.select_by_value(\"goods_est_asc\")\n",
    "                \n",
    "                # 각 리뷰 별 낮은 평점 순 20개 추출\n",
    "                for page in range(1, 3):\n",
    "                    if page != 1:\n",
    "                        driver.execute_script(f\"ReviewPage.goPage({page});\")\n",
    "                    time.sleep(random.uniform(0,1))\n",
    "                    for i in range(1,11):\n",
    "                        \n",
    "                        # 리뷰 텍스트 추출\n",
    "                        review = driver.find_element(\n",
    "                            By.CSS_SELECTOR,\n",
    "                            f\"#reviewListFragment > div:nth-child({i}) > div.review-contents > div.review-contents__text\"\n",
    "                        )\n",
    "                        review_txt = review.text\n",
    "                        review_txt = review_txt.replace(\"\\n\", \" \")\n",
    "\n",
    "                        # 별점 추출\n",
    "                        # 이때, 별점이 그림으로만 있고 텍스트로 따로 보이지 않는다\n",
    "                        # 이런 경우에는 텍스트로 전환할 수 있는 요소를 찾아서 해결해보자\n",
    "                        star_raw = driver.find_element(\n",
    "                            By.CSS_SELECTOR,\n",
    "                            f\"#reviewListFragment > div:nth-child({i}) > div.review-list__rating-wrap > span > span > span\"\n",
    "                        )\n",
    "                        \n",
    "                        # 해당 요소의 style 항목을 보면,\n",
    "                        # 별 1개는 20, 2개는 40의 규칙이 보인다. (style=\"width: 100%\")\n",
    "                        # 이를 이용해보자\n",
    "                        \n",
    "                        # get_attribute()로 해당 요소의 style의 값 불러오기\n",
    "                        star = star_raw.get_attribute(\"style\")\n",
    "                        \n",
    "                        # width: 제거 위해 split\n",
    "                        star_temp = star.split(\": \")[-1]\n",
    "                        \n",
    "                        # %과 ; 제거\n",
    "                        star_temp = star_temp.replace(\"%\", \"\")\n",
    "                        star_temp = star_temp.replace(\";\", \"\")\n",
    "                        \n",
    "                        # 남겨진 텍스트를 정수형으로 바꾼 뒤, 20으로 나눠준다\n",
    "                        star_result = int(star_temp) / int(20)\n",
    "                        product_num_list.append(num)\n",
    "                        review_list.append(review_txt)\n",
    "                        star_list.append(star_result)\n",
    "\n",
    "\n",
    "                    time.sleep(random.uniform(0,1))\n",
    "                    \n",
    "\n",
    "                product_df = pd.DataFrame({\"product_num\" :product_num_list,\n",
    "                                            \"review\" : review_list,\n",
    "                                            \"star\" : star_list\n",
    "                                            })\n",
    "                \n",
    "                product_df.to_csv(f\"./data/top_sweatshirt_review.csv\")\n",
    "        except:\n",
    "            omitted_num += 1\n",
    "            continue\n",
    "        \n",
    "    print(f\"{omitted_num} omitted!\")\n"
   ]
  },
  {
   "cell_type": "code",
   "execution_count": null,
   "metadata": {},
   "outputs": [],
   "source": []
  }
 ],
 "metadata": {
  "kernelspec": {
   "display_name": "base",
   "language": "python",
   "name": "python3"
  },
  "language_info": {
   "codemirror_mode": {
    "name": "ipython",
    "version": 3
   },
   "file_extension": ".py",
   "mimetype": "text/x-python",
   "name": "python",
   "nbconvert_exporter": "python",
   "pygments_lexer": "ipython3",
   "version": "3.9.10"
  },
  "orig_nbformat": 4,
  "vscode": {
   "interpreter": {
    "hash": "c6e4e9f98eb68ad3b7c296f83d20e6de614cb42e90992a65aa266555a3137d0d"
   }
  }
 },
 "nbformat": 4,
 "nbformat_minor": 2
}
